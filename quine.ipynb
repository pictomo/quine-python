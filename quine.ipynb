{
 "cells": [
  {
   "cell_type": "code",
   "execution_count": 1,
   "metadata": {},
   "outputs": [
    {
     "name": "stdout",
     "output_type": "stream",
     "text": [
      "print()\n"
     ]
    }
   ],
   "source": [
    "print(\"print()\");"
   ]
  },
  {
   "cell_type": "code",
   "execution_count": 2,
   "metadata": {},
   "outputs": [
    {
     "data": {
      "text/plain": [
       "'abab{}cdcd'"
      ]
     },
     "execution_count": 2,
     "metadata": {},
     "output_type": "execute_result"
    }
   ],
   "source": [
    "s = \"ab{}cd\"\n",
    "s.format(s)"
   ]
  },
  {
   "cell_type": "code",
   "execution_count": 3,
   "metadata": {},
   "outputs": [
    {
     "name": "stdout",
     "output_type": "stream",
     "text": [
      "triple_double_quote = chr(34)+chr(34)+chr(34)\n",
      "s = \"\"\"triple_double_quote = chr(34)+chr(34)+chr(34)\n",
      "s = {}{}{}\n",
      "print(s.format(triple_double_quote, s, triple_double_quote))\"\"\"\n",
      "print(s.format(triple_double_quote, s, triple_double_quote))\n"
     ]
    }
   ],
   "source": [
    "triple_double_quote = chr(34)+chr(34)+chr(34)\n",
    "s = \"\"\"triple_double_quote = chr(34)+chr(34)+chr(34)\n",
    "s = {}{}{}\n",
    "print(s.format(triple_double_quote, s, triple_double_quote))\"\"\"\n",
    "print(s.format(triple_double_quote, s, triple_double_quote))"
   ]
  }
 ],
 "metadata": {
  "kernelspec": {
   "display_name": "venv",
   "language": "python",
   "name": "python3"
  },
  "language_info": {
   "codemirror_mode": {
    "name": "ipython",
    "version": 3
   },
   "file_extension": ".py",
   "mimetype": "text/x-python",
   "name": "python",
   "nbconvert_exporter": "python",
   "pygments_lexer": "ipython3",
   "version": "3.12.3"
  }
 },
 "nbformat": 4,
 "nbformat_minor": 2
}
